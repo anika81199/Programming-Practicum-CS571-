{
  "nbformat": 4,
  "nbformat_minor": 0,
  "metadata": {
    "colab": {
      "provenance": [],
      "collapsed_sections": []
    },
    "kernelspec": {
      "name": "python3",
      "display_name": "Python 3"
    },
    "language_info": {
      "name": "python"
    }
  },
  "cells": [
    {
      "cell_type": "markdown",
      "source": [
        "**Q.1.** Parse the text provided and find the number of occurrences of each Latin alphabet"
      ],
      "metadata": {
        "id": "1ANiK2A8KBWi"
      }
    },
    {
      "cell_type": "code",
      "execution_count": 38,
      "metadata": {
        "colab": {
          "base_uri": "https://localhost:8080/"
        },
        "id": "zMjzGRG0I5P0",
        "outputId": "33e62284-f01f-4fc6-cb42-20835abe4d4d"
      },
      "outputs": [
        {
          "output_type": "stream",
          "name": "stdout",
          "text": [
            "text_to_be_encoded\n",
            " \n",
            "Variable-length codes can allow sources to be compressed and decompressed with zero error (lossless data compression) and still be read back symbol by symbol. With the right coding strategy an independent and identically-distributed source may be compressed almost arbitrarily close to its entropy. This is in contrast to fixed length coding methods, for which data compression is only possible for large blocks of data, and any compression beyond the logarithm of the total number of possibilities comes with a finite (though perhaps arbitrarily small) probability of failure\n",
            "Length of str: 32\n",
            "Alphabets\t\tNo. of Occurences\n",
            "1\t\t\tV\n",
            "35\t\t\ta\n",
            "33\t\t\tr\n",
            "38\t\t\ti\n",
            "18\t\t\tb\n",
            "28\t\t\tl\n",
            "45\t\t\te\n",
            "2\t\t\t-\n",
            "25\t\t\tn\n",
            "9\t\t\tg\n",
            "37\t\t\tt\n",
            "17\t\t\th\n",
            "86\t\t\t \n",
            "19\t\t\tc\n",
            "44\t\t\to\n",
            "23\t\t\td\n",
            "42\t\t\ts\n",
            "4\t\t\tw\n",
            "6\t\t\tu\n",
            "15\t\t\tm\n",
            "13\t\t\tp\n",
            "1\t\t\tz\n",
            "2\t\t\t(\n",
            "2\t\t\t)\n",
            "2\t\t\tk\n",
            "13\t\t\ty\n",
            "2\t\t\t.\n",
            "1\t\t\tW\n",
            "1\t\t\tT\n",
            "9\t\t\tf\n",
            "1\t\t\tx\n",
            "2\t\t\t,\n"
          ]
        }
      ],
      "source": [
        "str=\"Variable-length codes can allow sources to be compressed and decompressed with zero error (lossless data compression) and still be read back symbol by symbol. With the right coding strategy an independent and identically-distributed source may be compressed almost arbitrarily close to its entropy. This is in contrast to fixed length coding methods, for which data compression is only possible for large blocks of data, and any compression beyond the logarithm of the total number of possibilities comes with a finite (though perhaps arbitrarily small) probability of failure\"\n",
        "temp=[]\n",
        "\n",
        "print(\"text_to_be_encoded\")\n",
        "print(\" \")\n",
        "print(str)\n",
        "print(\"Length of str:\", len(set(str)))\n",
        "print(\"Alphabets\",\"No. of Occurences\", sep='\\t\\t')\n",
        "def count(str):  \n",
        "  for element in str:\n",
        "    if element not in temp:\n",
        "      temp.append(element)\n",
        "\n",
        "  for i in temp:\n",
        "    freq=0\n",
        "    for j in str:\n",
        "      if(i==j):\n",
        "        freq=freq+1\n",
        "    print(freq, i, sep='\\t\\t\\t')\n",
        "\n",
        "count(str)"
      ]
    },
    {
      "cell_type": "markdown",
      "source": [
        "**Q.2.** Sort the table in descending order of the number of occurrences of alphabets"
      ],
      "metadata": {
        "id": "iA5e1ZmCM1SW"
      }
    },
    {
      "cell_type": "code",
      "source": [
        "#sorting of frequencies\n",
        "def count(str):\n",
        "  symbols=dict()\n",
        "  for element in str:\n",
        "    if symbols.get(element)==None:\n",
        "      symbols[element]=1\n",
        "    else:\n",
        "      symbols[element]+=1\n",
        "  print(symbols)\n",
        "  count = pd.Series(x).value_counts()\n",
        "  print(count)\n",
        "  \n",
        "count(str)"
      ],
      "metadata": {
        "colab": {
          "base_uri": "https://localhost:8080/"
        },
        "id": "i1zvcxVFK_ZR",
        "outputId": "8199f1dd-6eb3-496b-89b6-8ba066457367"
      },
      "execution_count": 110,
      "outputs": [
        {
          "output_type": "stream",
          "name": "stdout",
          "text": [
            "{'V': 1, 'a': 35, 'r': 33, 'i': 38, 'b': 18, 'l': 28, 'e': 45, '-': 2, 'n': 25, 'g': 9, 't': 37, 'h': 17, ' ': 86, 'c': 19, 'o': 44, 'd': 23, 's': 42, 'w': 4, 'u': 6, 'm': 15, 'p': 13, 'z': 1, '(': 2, ')': 2, 'k': 2, 'y': 13, '.': 2, 'W': 1, 'T': 1, 'f': 9, 'x': 1, ',': 2}\n",
            "     86\n",
            "e    45\n",
            "o    44\n",
            "s    42\n",
            "i    38\n",
            "t    37\n",
            "a    35\n",
            "r    33\n",
            "l    28\n",
            "n    25\n",
            "d    23\n",
            "c    19\n",
            "b    18\n",
            "h    17\n",
            "m    15\n",
            "p    13\n",
            "y    13\n",
            "g     9\n",
            "f     9\n",
            "u     6\n",
            "w     4\n",
            "k     2\n",
            ".     2\n",
            ",     2\n",
            ")     2\n",
            "(     2\n",
            "-     2\n",
            "z     1\n",
            "W     1\n",
            "T     1\n",
            "x     1\n",
            "V     1\n",
            "dtype: int64\n"
          ]
        }
      ]
    },
    {
      "cell_type": "markdown",
      "source": [
        "**Q.3.** Implement a fixed length encoding algorithm to represent each alphabet as a binary\n",
        "string. "
      ],
      "metadata": {
        "id": "I-IgbkSPNL5o"
      }
    },
    {
      "cell_type": "code",
      "source": [
        "#Sorted binary digits list generate\n",
        "temp=[]\n",
        "C=[]\n",
        "\n",
        "def count(str):  \n",
        "  for element in str:\n",
        "    if element not in temp:\n",
        "      temp.append(element)\n",
        "  for i in temp:\n",
        "    freq=0\n",
        "    for j in str:\n",
        "      if(j==i):\n",
        "        freq=freq+1\n",
        "        binary = bin(freq)[2:]\n",
        "    C.append(binary)                     \n",
        "  tuple_=tuple(C)                      \n",
        "  sorted_ = tuple(sorted(tuple_, reverse=True)) \n",
        "  print(sorted_)\n",
        "\n",
        "  \n",
        "count(str)"
      ],
      "metadata": {
        "colab": {
          "base_uri": "https://localhost:8080/"
        },
        "id": "NyonY98is4kp",
        "outputId": "9b6133d3-bf7a-414d-b2a9-61f438a6c1c1"
      },
      "execution_count": 127,
      "outputs": [
        {
          "output_type": "stream",
          "name": "stdout",
          "text": [
            "('1111', '11100', '1101', '1101', '11001', '110', '10111', '101101', '101100', '1010110', '101010', '100110', '10011', '100101', '10010', '1001', '1001', '100011', '10001', '100001', '100', '10', '10', '10', '10', '10', '10', '1', '1', '1', '1', '1')\n"
          ]
        }
      ]
    },
    {
      "cell_type": "code",
      "source": [
        "#Corresponding to characters binary list generation and printing encoded text\n",
        "temp=[]\n",
        "print(\"Alphabets\",\"Binary eq.\", sep='\\t\\t')\n",
        "\n",
        "for i in range(len(str)):\n",
        "  freq=0\n",
        "  for j in range(len(str)):\n",
        "    if(str[i]==str[j]):\n",
        "      freq=freq+1\n",
        "  temp.append((freq,str[i]))\n",
        "\n",
        "sort=sorted(list(set(temp)))\n",
        "dic1={}\n",
        "for i in range(len(sort)):\n",
        "    dic1[sort[i][1]]= bin(i)[2:].zfill(5)\n",
        "\n",
        "for key in dic1:\n",
        "  print(key,dic1[key], sep='\\t\\t\\t')\n",
        "\n",
        "encoded_text=\"\"\n",
        "for i in str:\n",
        "  encoded_text+=dic1[i]\n",
        "print(\"encoded text\")\n",
        "print(encoded_text)"
      ],
      "metadata": {
        "colab": {
          "base_uri": "https://localhost:8080/"
        },
        "id": "HCTW3Gq7YDan",
        "outputId": "9c04b313-1057-4757-ab41-8d3e0cd3a358"
      },
      "execution_count": 115,
      "outputs": [
        {
          "output_type": "stream",
          "name": "stdout",
          "text": [
            "Alphabets\t\tBinary eq.\n",
            "T\t\t\t00000\n",
            "V\t\t\t00001\n",
            "W\t\t\t00010\n",
            "x\t\t\t00011\n",
            "z\t\t\t00100\n",
            "(\t\t\t00101\n",
            ")\t\t\t00110\n",
            ",\t\t\t00111\n",
            "-\t\t\t01000\n",
            ".\t\t\t01001\n",
            "k\t\t\t01010\n",
            "w\t\t\t01011\n",
            "u\t\t\t01100\n",
            "f\t\t\t01101\n",
            "g\t\t\t01110\n",
            "p\t\t\t01111\n",
            "y\t\t\t10000\n",
            "m\t\t\t10001\n",
            "h\t\t\t10010\n",
            "b\t\t\t10011\n",
            "c\t\t\t10100\n",
            "d\t\t\t10101\n",
            "n\t\t\t10110\n",
            "l\t\t\t10111\n",
            "r\t\t\t11000\n",
            "a\t\t\t11001\n",
            "t\t\t\t11010\n",
            "i\t\t\t11011\n",
            "s\t\t\t11100\n",
            "o\t\t\t11101\n",
            "e\t\t\t11110\n",
            " \t\t\t11111\n",
            "encoded text\n",
            "000011100111000110111100110011101111111001000101111111010110011101101010010111111010011101101011111011100111111010011001101101111111001101111011111101010111111111100111010110011000101001111011100111111101011101111111001111110111111010011101100010111111000111101110011100111101010111111110011011010101111111010111110101001110110001011111100011110111001110011110101011111101011110111101010010111110010011110110001110111111111101100011000111011100011111001011011111101111001110010111111101110011100111111010111001110101100111111101001110110001011111100011110111001110011011111011011000110111111100110110101011111111100110101101110111101111111110011111101111111000111101100110101111111001111001101000101011111111001000010001100111110110111111111001110000111111110010000100011001111101101110100111111000101101111010100101111111010100101111011111110001101101110100101101011111101001110110101110111011001110111111110011010110001100111010111100111010000111111100110110111111101110110101011111001111111101011010101111101011011010111111100110110101011111111011101011111010110110101101110100110011011110111100000100010101110111110011010110001101110011011001101011110101011111111100111010110011000101001111011111100011100110000111111001111110111111010011101100010111111000111101110011100111101010111111110011011110001111011110011010111111100111000100111101111010110001100111000110111011110000111111010010111111011110011110111111101011101111111101111010111001111111110101101101011000111010111110000010011111100000100101101111100111111101111100111111101110110111111010011101101101101011000110011110011010111111101011101111110110111011000111111010101111111011111110101100111011010100101111110100111011010111011101100111011111100011111011010100101110110101111000011111111011011110111000111110101110010110111010010010111111010111001110101100111111101001110110001011111100011110111001110011011111011011011111110111110011111111011011010111100001111101111111011110011100110111001110111111101111101101111011100011111101111100111000011101111011111100111011111101101000101011100111111110101101111111010111001110101100100111111111100110110101011111111001101101000011111101001110110001011111100011110111001110011011111011011011111100111111010000111011011010101111111101010010111101111110111111010111011001110001101111010100101000111111111010110111111110101001011110111111101011101110101100110111111111011001100100011001111110110001111111101011011111101111111011110011100110111001111011101111101111010110111111011100111111010011101100011111011100111110101111011110101001011111110011111101101110111011011011110101111011111001011101010010111010110001110100101111101111111101100010010110010111111100111111100111000100111101111010110001100111000110111011110000111111110010001110011011110111001101111101111110001110110011110011001111011101111101111010100001111111101011011111101101110011101110111011001100011110\n"
          ]
        }
      ]
    },
    {
      "cell_type": "markdown",
      "source": [
        "**Q.4.** Decode the bit stream corresponding to the fixed length coding and recover the\n",
        "original text"
      ],
      "metadata": {
        "id": "JOtZDOp-bBUr"
      }
    },
    {
      "cell_type": "code",
      "source": [
        "encoded_text_list=[]                                                   \n",
        "for i in range (0,len(encoded_text),5):\n",
        "    encoded_text_list.append(encoded_text[i:i+5])                 #this will display the list of all encoded alphabets\n",
        "decoded_text=\"\"\n",
        "for i in encoded_text_list:\n",
        "    for key,value in dic1.items():\n",
        "        if i==dic1[key]:\n",
        "            decoded_text+=key\n",
        "print(\"Decoded text\")\n",
        "print(decoded_text)"
      ],
      "metadata": {
        "colab": {
          "base_uri": "https://localhost:8080/"
        },
        "id": "mvaU8i17bA70",
        "outputId": "e137d997-920a-4d1c-f68e-f585c292f8b2"
      },
      "execution_count": 131,
      "outputs": [
        {
          "output_type": "stream",
          "name": "stdout",
          "text": [
            "Decoded text\n",
            "Variable-length codes can allow sources to be compressed and decompressed with zero error (lossless data compression) and still be read back symbol by symbol. With the right coding strategy an independent and identically-distributed source may be compressed almost arbitrarily close to its entropy. This is in contrast to fixed length coding methods, for which data compression is only possible for large blocks of data, and any compression beyond the logarithm of the total number of possibilities comes with a finite (though perhaps arbitrarily small) probability of failure\n"
          ]
        }
      ]
    },
    {
      "cell_type": "markdown",
      "source": [
        "**Q.5.** Implement the variable length coding algorithm given here and present it in a tabular\n",
        "structure. Note that the length of binary codes corresponding to Latin alphabets\n",
        "depends on the frequency of their occurrence in the text. "
      ],
      "metadata": {
        "id": "ZyXt7xlcciF-"
      }
    },
    {
      "cell_type": "code",
      "source": [
        "import math\n",
        "import sys\n",
        "global probabilities\n",
        "probabilities = []\n",
        "\n",
        "import pandas as pd\n",
        "x=list(str)\n",
        "temp=[]\n",
        "\n",
        "class HuffmanCode:\n",
        "    def __init__(self,probability):\n",
        "        self.probability = probability\n",
        "\n",
        "    def position(self, value, index):\n",
        "        for j in range(len(self.probability)):\n",
        "            if(value >= self.probability[j]):\n",
        "                return j\n",
        "        return index-1\n",
        "\n",
        "    def characteristics_huffman_code(self, code):\n",
        "        length_of_code = [len(k) for k in code]\n",
        "\n",
        "        mean_length = sum([a*b for a, b in zip(length_of_code, self.probability)])\n",
        "\n",
        "    def compute_code(self):\n",
        "        num = len(self.probability)\n",
        "        huffman_code = ['']*num\n",
        "\n",
        "        for i in range(num-2):\n",
        "            val = self.probability[num-i-1] + self.probability[num-i-2]\n",
        "            if(huffman_code[num-i-1] != '' and huffman_code[num-i-2] != ''):\n",
        "                huffman_code[-1] = ['1' + symbol for symbol in huffman_code[-1]]\n",
        "                huffman_code[-2] = ['0' + symbol for symbol in huffman_code[-2]]\n",
        "            elif(huffman_code[num-i-1] != ''):\n",
        "                huffman_code[num-i-2] = '0'\n",
        "                huffman_code[-1] = ['1' + symbol for symbol in huffman_code[-1]]\n",
        "            elif(huffman_code[num-i-2] != ''):\n",
        "                huffman_code[num-i-1] = '1'\n",
        "                huffman_code[-2] = ['0' + symbol for symbol in huffman_code[-2]]\n",
        "            else:\n",
        "                huffman_code[num-i-1] = '1'\n",
        "                huffman_code[num-i-2] = '0'\n",
        "\n",
        "            position = self.position(val, i)\n",
        "            probability = self.probability[0:(len(self.probability) - 2)]\n",
        "            probability.insert(position, val)\n",
        "            if(isinstance(huffman_code[num-i-2], list) and isinstance(huffman_code[num-i-1], list)):\n",
        "                complete_code = huffman_code[num-i-1] + huffman_code[num-i-2]\n",
        "            elif(isinstance(huffman_code[num-i-2], list)):\n",
        "                complete_code = huffman_code[num-i-2] + [huffman_code[num-i-1]]\n",
        "            elif(isinstance(huffman_code[num-i-1], list)):\n",
        "                complete_code = huffman_code[num-i-1] + [huffman_code[num-i-2]]\n",
        "            else:\n",
        "                complete_code = [huffman_code[num-i-2], huffman_code[num-i-1]]\n",
        "\n",
        "            huffman_code = huffman_code[0:(len(huffman_code)-2)]\n",
        "            huffman_code.insert(position, complete_code)\n",
        "\n",
        "        huffman_code[0] = ['0' + symbol for symbol in huffman_code[0]]\n",
        "        huffman_code[1] = ['1' + symbol for symbol in huffman_code[1]]\n",
        "\n",
        "        if(len(huffman_code[1]) == 0):\n",
        "            huffman_code[1] = '1'\n",
        "\n",
        "        count = 0\n",
        "        final_code = ['']*num\n",
        "\n",
        "        for i in range(2):\n",
        "            for j in range(len(huffman_code[i])):\n",
        "                final_code[count] = huffman_code[i][j]\n",
        "                count += 1\n",
        "\n",
        "        final_code = sorted(final_code, key=len)\n",
        "        return final_code\n",
        "\n",
        "string =\"Variable-length codes can allow sources to be compressed and decompressed with zero error (lossless data compression) and still be read back symbol by symbol. With the right coding strategy an independent and identically-distributed source may be compressed almost arbitrarily close to its entropy. This is in contrast to fixed length coding methods, for which data compression is only possible for large blocks of data, and any compression beyond the logarithm of the total number of possibilities comes with a finite (though perhaps arbitrarily small) probability of failure\"\n",
        "\n",
        "freq = {}\n",
        "for c in string:\n",
        "    if c in freq:\n",
        "        freq[c] += 1\n",
        "    else:\n",
        "        freq[c] = 1\n",
        "\n",
        "freq = sorted(freq.items(), key=lambda x: x[1], reverse=True)\n",
        "length = len(string)\n",
        "\n",
        "probabilities = [float(\"{:.2f}\".format(frequency[1]/length)) for frequency in freq]\n",
        "probabilities = sorted(probabilities, reverse=True)\n",
        "\n",
        "huffmanClassObject = HuffmanCode(probabilities)\n",
        "P = probabilities\n",
        "\n",
        "huffman_code = huffmanClassObject.compute_code()\n",
        "\n",
        "print(' Char | Huffman code ')\n",
        "print('----------------------')\n",
        "\n",
        "for id,char in enumerate(freq):\n",
        "    if huffman_code[id]=='':\n",
        "        print(' %-4r |%12s' % (char[0], 1))\n",
        "        continue\n",
        "    print(' %-4r |%12s' % (char[0], huffman_code[id]))\n",
        "\n",
        "huffmanClassObject.characteristics_huffman_code(huffman_code)"
      ],
      "metadata": {
        "colab": {
          "base_uri": "https://localhost:8080/"
        },
        "id": "cUBafHrl1iJu",
        "outputId": "b637ece9-e596-493a-e8b7-d2d1b7482234"
      },
      "execution_count": 129,
      "outputs": [
        {
          "output_type": "stream",
          "name": "stdout",
          "text": [
            " Char | Huffman code \n",
            "----------------------\n",
            " ' '  |          00\n",
            " 'e'  |         110\n",
            " 'o'  |         111\n",
            " 's'  |        0110\n",
            " 'i'  |        0101\n",
            " 't'  |        1010\n",
            " 'a'  |        1011\n",
            " 'r'  |       01110\n",
            " 'l'  |       01000\n",
            " 'n'  |       10010\n",
            " 'd'  |       10011\n",
            " 'c'  |      011110\n",
            " 'b'  |      011111\n",
            " 'h'  |      010011\n",
            " 'm'  |      100010\n",
            " 'p'  |      100011\n",
            " 'y'  |      100000\n",
            " 'g'  |     0100100\n",
            " 'f'  |     0100101\n",
            " 'u'  |     1000011\n",
            " 'w'  |    10000100\n",
            " '-'  | 10000101110\n",
            " '('  | 10000101111\n",
            " ')'  | 10000101100\n",
            " 'k'  | 10000101101\n",
            " '.'  | 10000101011\n",
            " ','  |100001010100\n",
            " 'V'  |100001010101\n",
            " 'z'  |100001010010\n",
            " 'W'  |100001010011\n",
            " 'T'  |100001010000\n",
            " 'x'  |100001010001\n"
          ]
        }
      ]
    }
  ]
}