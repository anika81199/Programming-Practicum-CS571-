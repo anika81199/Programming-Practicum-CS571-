{
  "nbformat": 4,
  "nbformat_minor": 0,
  "metadata": {
    "colab": {
      "name": "Untitled4.ipynb",
      "provenance": [],
      "collapsed_sections": []
    },
    "kernelspec": {
      "name": "python3",
      "display_name": "Python 3"
    },
    "language_info": {
      "name": "python"
    }
  },
  "cells": [
    {
      "cell_type": "markdown",
      "source": [
        "**Assignment-1**"
      ],
      "metadata": {
        "id": "YCzqZPg2vu7C"
      }
    },
    {
      "cell_type": "markdown",
      "source": [
        "**Question 1.(1)**-Finding Convergence for N=5"
      ],
      "metadata": {
        "id": "cpo29245wv0O"
      }
    },
    {
      "cell_type": "code",
      "execution_count": 11,
      "metadata": {
        "colab": {
          "base_uri": "https://localhost:8080/"
        },
        "id": "ybCsoRuIvsjs",
        "outputId": "bf6bb5f7-4011-4049-cda7-11c2edc66cbe"
      },
      "outputs": [
        {
          "output_type": "stream",
          "name": "stdout",
          "text": [
            "x\t\t\t\t\t   e^x\t\t\t\t\t   approx e^x\t\t\t\t\t   convergence\n",
            "0.1\t\t\t\t\t1.10517092\t\t\t\t\t1.10517084\t\t\t\t\t8e-08\n",
            "0.3\t\t\t\t\t1.34985881\t\t\t\t\t1.3498375\t\t\t\t\t2.131e-05\n",
            "0.45\t\t\t\t\t1.56831219\t\t\t\t\t1.56814609\t\t\t\t\t0.0001661\n",
            "0.75\t\t\t\t\t2.11700002\t\t\t\t\t2.11474609\t\t\t\t\t0.00225393\n",
            "0.95\t\t\t\t\t2.58570966\t\t\t\t\t2.57808359\t\t\t\t\t0.00762607\n"
          ]
        }
      ],
      "source": [
        "import math                                    \n",
        "val = [0.1,0.3,0.45,0.75,0.95]                                     #initialising list 'val' for different values of x \n",
        "print(\"x\",\"e^x\",\"approx e^x\",\"convergence\", sep=\"\\t\\t\\t\\t\\t   \")\n",
        "for x in val:                                                      #accessing values of x from 'val'\n",
        "  f=round(math.exp(x),8)                                           #math function for evaluating e^x\n",
        "  F=0\n",
        "  for n in range(5):\n",
        "    fact=math.factorial(n)\n",
        "    F=round(F+(x**n)/fact,8)                                       #calculating approx e^x\n",
        "    conv=round(f-F,8)                                              #calculating convergence error\n",
        "  print(x, f, F, conv, sep='\\t\\t\\t\\t\\t')"
      ]
    },
    {
      "cell_type": "markdown",
      "source": [
        "**Question 1.(2)**- Finding convergence for N=3,5,7,8,9"
      ],
      "metadata": {
        "id": "C6rBSu8vxaFT"
      }
    },
    {
      "cell_type": "code",
      "source": [
        "import math                     \n",
        "val = [0.1,0.3,0.45,0.75,0.95]\n",
        "val2 = [4,6,8,9,10]\n",
        "print(\"x\",\"3\",\"5\",\"7\",\"8\",\"9\",sep=\"\\t\\t\\t\\t\")\n",
        "ans = [[0]*5 for i in range(5)]\n",
        "\n",
        "for i in range(0,len(val)):\n",
        "    f = math.exp(val[i])\n",
        "    for j in range(0,len(val2)):\n",
        "        F = 0\n",
        "        conv = 0\n",
        "        for n in range(0,val2[j]):\n",
        "            s=math.factorial(n)\n",
        "            F=F+(val[i]**n)/s\n",
        "            conv=f-F\n",
        "\n",
        "        ans[i][j] = conv\n",
        "for i in range(0,5):\n",
        "    print(f\"{val[i]}\\t\\t{ans[i][0]}\\t\\t{ans[i][1]}\\t\\t{ans[i][2]}\\t\\t{ans[i][3]}\\t\\t{ans[i][4]}\\t\\t\")"
      ],
      "metadata": {
        "colab": {
          "base_uri": "https://localhost:8080/"
        },
        "id": "WgfAZOVPanju",
        "outputId": "28edb88c-6c34-413d-f295-2cdfe957e385"
      },
      "execution_count": 103,
      "outputs": [
        {
          "output_type": "stream",
          "name": "stdout",
          "text": [
            "x\t\t\t\t3\t\t\t\t5\t\t\t\t7\t\t\t\t8\t\t\t\t9\n",
            "0.1\t\t4.2514089810818945e-06\t\t1.4089811539719221e-09\t\t2.511324481702104e-13\t\t3.1086244689504383e-15\t\t4.440892098500626e-16\t\t\n",
            "0.3\t\t0.00035880757600326163\t\t1.0575760032160986e-06\t\t1.6831460669664011e-09\t\t5.5913940144591834e-11\t\t1.6728840535051859e-12\t\t\n",
            "0.45\t\t0.0018746854901690035\t\t1.2318302669012127e-05\t\t4.388721142056795e-08\t\t2.1830313112758404e-09\t\t9.782241683353732e-11\t\t\n",
            "0.75\t\t0.015437516612674784\t\t0.00027638380017469544\t\t2.7065192034214647e-06\t\t2.2356000117795816e-07\t\t1.664673421331031e-08\t\t\n",
            "0.95\t\t0.041563825982512626\t\t0.0011778910866793169\t\t1.8371140157569243e-05\t\t1.917260413097921e-06\t\t1.8046199556920328e-07\t\t\n"
          ]
        }
      ]
    },
    {
      "cell_type": "markdown",
      "source": [
        "**Question 1.(3)**-Checking for different error ranges"
      ],
      "metadata": {
        "id": "RZlD1uJb_ACY"
      }
    },
    {
      "cell_type": "code",
      "source": [
        "import math            \n",
        "val1 = [0.1,0.3,0.45,0.75,0.95]\n",
        "val2=[0.1,0.01,0.001,0.0001,0.00001]\n",
        "print(\"x\",\"10^-1\",\"10^-2\",\"10^-3\",\"10^-4\",\"10^-5\",sep=\"\\t\\t\\t\")\n",
        "\n",
        "for x in val1:\n",
        "    f=math.exp(x)\n",
        "    print(x, end='\\t\\t\\t')\n",
        "    for y in val2:\n",
        "      i=0\n",
        "      sum1=0\n",
        "      while True:\n",
        "          fact=math.factorial(i)\n",
        "          sum1=sum1+((x**i)/fact)\n",
        "          diff=f-sum1\n",
        "\n",
        "          if(diff<=y):\n",
        "            print(i, sep= '\\t\\t\\t', end='\\t\\t\\t')\n",
        "            break\n",
        "          i=i+1\n",
        "    print('\\t',end='\\n')"
      ],
      "metadata": {
        "colab": {
          "base_uri": "https://localhost:8080/"
        },
        "id": "AOw2_gVm3ITS",
        "outputId": "965c0f49-f078-4202-e938-fd2b54590038"
      },
      "execution_count": 115,
      "outputs": [
        {
          "output_type": "stream",
          "name": "stdout",
          "text": [
            "x\t\t\t10^-1\t\t\t10^-2\t\t\t10^-3\t\t\t10^-4\t\t\t10^-5\n",
            "0.1\t\t\t1\t\t\t1\t\t\t2\t\t\t3\t\t\t3\t\t\t\t\n",
            "0.3\t\t\t1\t\t\t2\t\t\t3\t\t\t4\t\t\t5\t\t\t\t\n",
            "0.45\t\t\t2\t\t\t3\t\t\t4\t\t\t5\t\t\t6\t\t\t\t\n",
            "0.75\t\t\t2\t\t\t4\t\t\t5\t\t\t6\t\t\t7\t\t\t\t\n",
            "0.95\t\t\t3\t\t\t4\t\t\t6\t\t\t7\t\t\t8\t\t\t\t\n"
          ]
        }
      ]
    },
    {
      "cell_type": "markdown",
      "source": [
        "**Question 2.(1a)**-Right Shifting"
      ],
      "metadata": {
        "id": "3O7TAGWuB4bY"
      }
    },
    {
      "cell_type": "code",
      "source": [
        "b=[1,0,0,0,0]\n",
        "i=0\n",
        "def Bin_to_Dec(b):                                  #defining function for converting binary to decimal\n",
        "    c=0\n",
        "    for j in range(len(b)):\n",
        "       c=c+(2**j)*b[-j-1] \n",
        "    return(c)\n",
        "print(\"Current Bit\",\"Decimal eq.\",sep='\\t\\t')\n",
        "while(i<len(b)):\n",
        "  print(b,Bin_to_Dec(b),sep='\\t\\t')\n",
        "  b.insert(0,b[-1])                                 #inserting last bit at index 0\n",
        "  del b[-1]                                         #deleting last bit\n",
        "  i=i+1\n",
        "\n"
      ],
      "metadata": {
        "colab": {
          "base_uri": "https://localhost:8080/"
        },
        "id": "gXf1m6ue_e1X",
        "outputId": "80a1f5ed-53e5-4e87-c0f7-e300967b198d"
      },
      "execution_count": 74,
      "outputs": [
        {
          "output_type": "stream",
          "name": "stdout",
          "text": [
            "Current Bit\t\tDecimal eq.\n",
            "[1, 0, 0, 0, 0]\t\t16\n",
            "[0, 1, 0, 0, 0]\t\t8\n",
            "[0, 0, 1, 0, 0]\t\t4\n",
            "[0, 0, 0, 1, 0]\t\t2\n",
            "[0, 0, 0, 0, 1]\t\t1\n"
          ]
        }
      ]
    },
    {
      "cell_type": "markdown",
      "source": [
        "**Question 2.(1b)**- Twisted Counter"
      ],
      "metadata": {
        "id": "4hx3E9VMDqF7"
      }
    },
    {
      "cell_type": "code",
      "source": [
        "b = [1, 0, 0, 0, 0]\n",
        "i=0\n",
        "print(\"Current Bit\",\"Decimal Eq.\",sep='\\t\\t')\n",
        "def Bin_to_Dec(b):                                  #defining function for converting binary to decimal\n",
        "    c=0\n",
        "    for j in range(len(b)):\n",
        "       c=c+(2**j)*b[-j-1] \n",
        "    return(c)\n",
        "\n",
        "while(i<(2*len(b))):                                \n",
        "    print(b,Bin_to_Dec(b),sep='\\t\\t')\n",
        "    b.insert(0,1-b[-1])                             #inserting the complemented last bit at index 0\n",
        "    del b[-1]                                       #deleting last bit\n",
        "    i=i+1"
      ],
      "metadata": {
        "colab": {
          "base_uri": "https://localhost:8080/"
        },
        "id": "cGNOXaiDDxAO",
        "outputId": "452c764b-dd76-49dd-e1fd-9c19003ec55e"
      },
      "execution_count": 76,
      "outputs": [
        {
          "output_type": "stream",
          "name": "stdout",
          "text": [
            "Current Bit\t\tDecimal Eq.\n",
            "[1, 0, 0, 0, 0]\t\t16\n",
            "[1, 1, 0, 0, 0]\t\t24\n",
            "[1, 1, 1, 0, 0]\t\t28\n",
            "[1, 1, 1, 1, 0]\t\t30\n",
            "[1, 1, 1, 1, 1]\t\t31\n",
            "[0, 1, 1, 1, 1]\t\t15\n",
            "[0, 0, 1, 1, 1]\t\t7\n",
            "[0, 0, 0, 1, 1]\t\t3\n",
            "[0, 0, 0, 0, 1]\t\t1\n",
            "[0, 0, 0, 0, 0]\t\t0\n"
          ]
        }
      ]
    },
    {
      "cell_type": "markdown",
      "source": [
        "**Question 2.(2)**- User defined Input"
      ],
      "metadata": {
        "id": "fjuvmSg_G4xm"
      }
    },
    {
      "cell_type": "code",
      "source": [
        "user_input=input(\"Enter choice- right or left\")            #taking user input\n",
        "\n",
        "b = [1, 0, 0, 0, 0]\n",
        "print(\"Current bit\",\"Decimal eq\",\"Shifting type\",sep='\\t\\t\\t')\n",
        "\n",
        "def Bin_to_Dec(b):                                  #defining function for converting binary to decimal\n",
        "    c=0\n",
        "    for j in range(len(b)):\n",
        "       c=c+(2**j)*b[-j-1] \n",
        "    return(c)\n",
        "if(user_input.lower()=='right'):\n",
        "\n",
        "  i=0\n",
        "  while(i<len(b)): \n",
        "        print(b,Bin_to_Dec(b),\"Right Shift\",sep='\\t\\t\\t')\n",
        "        b.insert(0,b[-1])                                  #inserting last element at index 0 \n",
        "        del b[-1]                                          #deleting last element\n",
        "        i=i+1                                              \n",
        "elif(user_input.lower()=='left'):\n",
        "    i=0\n",
        "    while(i<len(b)):\n",
        "        print(b,Bin_to_Dec(b),\"Left Shift\",sep='\\t\\t\\t')\n",
        "        b.append(b[0])                                    #adding element of index 0 at the end\n",
        "        del b[0]                                          #deleting element at index 0\n",
        "        i=i+1\n",
        "else:\n",
        "        print('Invalid choice')"
      ],
      "metadata": {
        "colab": {
          "base_uri": "https://localhost:8080/"
        },
        "id": "nSrNmk7FG4GH",
        "outputId": "04efc746-531c-46f3-d98e-0ec1f644a7f0"
      },
      "execution_count": 80,
      "outputs": [
        {
          "output_type": "stream",
          "name": "stdout",
          "text": [
            "Enter choice- right or leftLEFT\n",
            "Current bit\t\t\tDecimal eq\t\t\tShifting type\n",
            "[1, 0, 0, 0, 0]\t\t\t16\t\t\tLeft Shift\n",
            "[0, 0, 0, 0, 1]\t\t\t1\t\t\tLeft Shift\n",
            "[0, 0, 0, 1, 0]\t\t\t2\t\t\tLeft Shift\n",
            "[0, 0, 1, 0, 0]\t\t\t4\t\t\tLeft Shift\n",
            "[0, 1, 0, 0, 0]\t\t\t8\t\t\tLeft Shift\n"
          ]
        }
      ]
    },
    {
      "cell_type": "markdown",
      "source": [
        "**Question 2.(3)**- One bit random input\n"
      ],
      "metadata": {
        "id": "V-H_jdBlJvlQ"
      }
    },
    {
      "cell_type": "code",
      "source": [
        "import math\n",
        "import random\n",
        "print(\"count\",\"current bit\",\"Decimal Eq.\",\"shifting type\", sep='\\t\\t\\t')\n",
        "k=0\n",
        "b=[1,0,0,0,0]\n",
        "def RightShift(b):                                         #defining function for right shift\n",
        "            print(k,b,Bin_to_Dec(b),\"right shift\", sep='\\t\\t\\t')\n",
        "            b.insert(0,b[-1])\n",
        "            del b[-1]\n",
        "            return b\n",
        "                 \n",
        "def LeftShift(b):                                           #defining function for left shift\n",
        "       print(k,b,Bin_to_Dec(b),\"left shift\", sep='\\t\\t\\t')\n",
        "       b.append(b[0])\n",
        "       del b[0]\n",
        "       return b\n",
        "\n",
        "def Bin_to_Dec(b):                                          #defining function for binary to decimal conversion\n",
        "    c=0\n",
        "    for j in range(len(b)):\n",
        "       c=c+(2**j)*b[-j-1] \n",
        "    return(c)\n",
        "\n",
        "for k in range(10):\n",
        "\n",
        "  if(k%3==0):                                                #checking for the given condition\n",
        "    x=random.choice([0,1])\n",
        "    if(x==0):\n",
        "       y = b[0]^b[2]^b[4]\n",
        "       if (y==0):\n",
        "          LeftShift(b)\n",
        "          var = 'left'  \n",
        "       else:\n",
        "           RightShift(b) \n",
        "           var ='right'      \n",
        "    else:\n",
        "       y = b[1]^b[2]^b[3]\n",
        "       if (y==0):\n",
        "           LeftShift(b)\n",
        "           var = 'left' \n",
        "       else:\n",
        "          RightShift(b)\n",
        "          var ='right'\n",
        "  else:                                                     \n",
        "    if var == 'left':\n",
        "      LeftShift(b)\n",
        "    else:\n",
        "      RightShift(b)"
      ],
      "metadata": {
        "colab": {
          "base_uri": "https://localhost:8080/"
        },
        "id": "ybGrE_ckJ1Kw",
        "outputId": "74f1e9a7-532b-4cc1-ae37-ecb1a2d83619"
      },
      "execution_count": 91,
      "outputs": [
        {
          "output_type": "stream",
          "name": "stdout",
          "text": [
            "count\t\t\tcurrent bit\t\t\tDecimal Eq.\t\t\tshifting type\n",
            "0\t\t\t[1, 0, 0, 0, 0]\t\t\t16\t\t\tleft shift\n",
            "1\t\t\t[0, 0, 0, 0, 1]\t\t\t1\t\t\tleft shift\n",
            "2\t\t\t[0, 0, 0, 1, 0]\t\t\t2\t\t\tleft shift\n",
            "3\t\t\t[0, 0, 1, 0, 0]\t\t\t4\t\t\tright shift\n",
            "4\t\t\t[0, 0, 0, 1, 0]\t\t\t2\t\t\tright shift\n",
            "5\t\t\t[0, 0, 0, 0, 1]\t\t\t1\t\t\tright shift\n",
            "6\t\t\t[1, 0, 0, 0, 0]\t\t\t16\t\t\tright shift\n",
            "7\t\t\t[0, 1, 0, 0, 0]\t\t\t8\t\t\tright shift\n",
            "8\t\t\t[0, 0, 1, 0, 0]\t\t\t4\t\t\tright shift\n",
            "9\t\t\t[0, 0, 0, 1, 0]\t\t\t2\t\t\tleft shift\n"
          ]
        }
      ]
    }
  ]
}